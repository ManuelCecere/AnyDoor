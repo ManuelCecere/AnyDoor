{
 "cells": [
  {
   "cell_type": "code",
   "execution_count": null,
   "metadata": {},
   "outputs": [
    {
     "ename": "",
     "evalue": "",
     "output_type": "error",
     "traceback": [
      "\u001b[1;31mRunning cells with 'anydoor' requires the ipykernel package.\n",
      "\u001b[1;31mRun the following command to install 'ipykernel' into the Python environment. \n",
      "\u001b[1;31mCommand: 'conda install -n anydoor ipykernel --update-deps --force-reinstall'"
     ]
    }
   ],
   "source": [
    "import cv2\n",
    "import einops\n",
    "import numpy as np\n",
    "import torch\n",
    "import random\n",
    "from pytorch_lightning import seed_everything\n",
    "from cldm.model import create_model, load_state_dict\n",
    "from cldm.cldm import ControlLDM\n",
    "from cldm.ddim_hacked import DDIMSampler\n",
    "from cldm.hack import disable_verbosity, enable_sliced_attention\n",
    "from datasets.data_utils import *\n",
    "from collections import namedtuple\n",
    "import time\n",
    "import os\n",
    "\n",
    "\n",
    "cv2.setNumThreads(0)\n",
    "cv2.ocl.setUseOpenCL(False)\n",
    "import albumentations as A\n",
    "from omegaconf import OmegaConf\n",
    "from PIL import Image\n",
    "from peft import LoraConfig, get_peft_model"
   ]
  },
  {
   "cell_type": "code",
   "execution_count": null,
   "metadata": {},
   "outputs": [],
   "source": [
    "save_memory = False\n",
    "disable_verbosity()\n",
    "if save_memory:\n",
    "    enable_sliced_attention()\n",
    "\n",
    "config = OmegaConf.load(\"./configs/inference.yaml\")\n",
    "model_ckpt = config.pretrained_model\n",
    "model_config = config.config_file\n",
    "\n",
    "model = create_model(model_config).cpu()\n",
    "model.load_state_dict(load_state_dict(model_ckpt, location=\"cuda\"))\n",
    "model = model.cuda()"
   ]
  },
  {
   "cell_type": "code",
   "execution_count": null,
   "metadata": {},
   "outputs": [],
   "source": [
    "print(type(model))\n",
    "print([(n, type(m)) for n, m in model.named_modules()])\n",
    "\n",
    "\n",
    "config = LoraConfig(\n",
    "    target_modules=[\"control_model.middle_block.1.transformer_blocks.0.ff.net.0.proj\"],\n",
    ")\n",
    "\n",
    "peft_model = get_peft_model(model, config)\n",
    "print(peft_model.targeted_module_names)\n"
   ]
  }
 ],
 "metadata": {
  "kernelspec": {
   "display_name": "anydoor",
   "language": "python",
   "name": "python3"
  },
  "language_info": {
   "name": "python",
   "version": "3.8.5"
  }
 },
 "nbformat": 4,
 "nbformat_minor": 2
}
