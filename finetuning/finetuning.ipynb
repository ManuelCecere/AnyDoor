{
 "cells": [
  {
   "cell_type": "code",
   "execution_count": null,
   "metadata": {},
   "outputs": [
    {
     "ename": "",
     "evalue": "",
     "output_type": "error",
     "traceback": [
      "\u001b[1;31mRunning cells with 'anydoor' requires the ipykernel package.\n",
      "\u001b[1;31mRun the following command to install 'ipykernel' into the Python environment. \n",
      "\u001b[1;31mCommand: 'conda install -n anydoor ipykernel --update-deps --force-reinstall'"
     ]
    }
   ],
   "source": [
    "import cv2\n",
    "import einops\n",
    "import numpy as np\n",
    "import torch\n",
    "import random\n",
    "import pytorch_lightning as pl\n",
    "from pytorch_lightning import seed_everything\n",
    "from PeftModelLightning import PeftModelLightning\n",
    "from cldm.model import create_model, load_state_dict\n",
    "from cldm.cldm import ControlLDM\n",
    "from cldm.ddim_hacked import DDIMSampler\n",
    "from cldm.hack import disable_verbosity, enable_sliced_attention\n",
    "from datasets.data_utils import *\n",
    "import hiddenlayer as hl\n",
    "from collections import namedtuple\n",
    "import time\n",
    "import os\n",
    "from cldm.logger import ImageLogger\n",
    "from torch.utils.data import DataLoader\n",
    "from datasets.vitonhd import VitonHDDataset\n",
    "\n",
    "\n",
    "cv2.setNumThreads(0)\n",
    "cv2.ocl.setUseOpenCL(False)\n",
    "import albumentations as A\n",
    "from omegaconf import OmegaConf"
   ]
  },
  {
   "cell_type": "code",
   "execution_count": null,
   "metadata": {},
   "outputs": [
    {
     "ename": "",
     "evalue": "",
     "output_type": "error",
     "traceback": [
      "\u001b[1;31mRunning cells with 'anydoor' requires the ipykernel package.\n",
      "\u001b[1;31mRun the following command to install 'ipykernel' into the Python environment. \n",
      "\u001b[1;31mCommand: 'conda install -n anydoor ipykernel --update-deps --force-reinstall'"
     ]
    }
   ],
   "source": [
    "\n",
    "\n",
    "save_memory = False\n",
    "disable_verbosity()\n",
    "if save_memory:\n",
    "    enable_sliced_attention()\n",
    "\n",
    "# Configs\n",
    "resume_path = \".ckpt/epoch=1-step=8687_ft.ckpt\"\n",
    "batch_size = 1\n",
    "logger_freq = 1000\n",
    "learning_rate = 1e-5\n",
    "sd_locked = False\n",
    "only_mid_control = False\n",
    "n_gpus = 1\n",
    "accumulate_grad_batches = 1\n",
    "\n",
    "\n",
    "# First use cpu to load models. Pytorch Lightning will automatically move it to GPUs.\n",
    "model = create_model(\"./configs/anydoor.yaml\").cpu()\n",
    "model.load_state_dict(load_state_dict(resume_path, location=\"cpu\"))\n",
    "model.learning_rate = learning_rate\n",
    "model.sd_locked = sd_locked\n",
    "model.only_mid_control = only_mid_control\n"
   ]
  },
  {
   "cell_type": "code",
   "execution_count": null,
   "metadata": {},
   "outputs": [],
   "source": [
    "\n",
    "for param in model.parameters():\n",
    "    param.requires_grad = False\n",
    "\n",
    "for param in model.model.diffusion_model.output_blocks.parameters():\n",
    "    param.requires_grad = True\n",
    "\n",
    "for name, param in model.named_parameters():\n",
    "    print(f\"{name}: {param.requires_grad}\")\n",
    "\n",
    "trainable_count = sum(p.numel() for p in model.parameters() if p.requires_grad == True)\n",
    "print(trainable_count)\n",
    "# Datasets\n",
    "DConf = OmegaConf.load(\"./configs/datasets.yaml\")\n",
    "dataset = VitonHDDataset(**DConf.Train.VitonHD)\n",
    "\n",
    "\n",
    "dataloader = DataLoader(dataset, num_workers=8, batch_size=batch_size, shuffle=True)\n",
    "logger = ImageLogger(batch_frequency=logger_freq)\n",
    "trainer = pl.Trainer(\n",
    "    gpus=n_gpus,\n",
    "    strategy=\"ddp\",\n",
    "    precision=16,\n",
    "    accelerator=\"gpu\",\n",
    "    callbacks=[logger],\n",
    "    progress_bar_refresh_rate=1,\n",
    "    accumulate_grad_batches=accumulate_grad_batches,\n",
    ")\n"
   ]
  },
  {
   "cell_type": "code",
   "execution_count": null,
   "metadata": {},
   "outputs": [],
   "source": [
    "\n",
    "\n",
    "# Train!\n",
    "trainer.fit(model, dataloader)\n"
   ]
  }
 ],
 "metadata": {
  "kernelspec": {
   "display_name": "anydoor",
   "language": "python",
   "name": "python3"
  },
  "language_info": {
   "name": "python",
   "version": "3.8.5"
  }
 },
 "nbformat": 4,
 "nbformat_minor": 2
}
